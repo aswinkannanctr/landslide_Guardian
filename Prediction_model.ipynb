{
  "nbformat": 4,
  "nbformat_minor": 0,
  "metadata": {
    "colab": {
      "provenance": [],
      "authorship_tag": "ABX9TyMX67nn+GcfDTAw1NjMVlkE",
      "include_colab_link": true
    },
    "kernelspec": {
      "name": "python3",
      "display_name": "Python 3"
    },
    "language_info": {
      "name": "python"
    }
  },
  "cells": [
    {
      "cell_type": "markdown",
      "metadata": {
        "id": "view-in-github",
        "colab_type": "text"
      },
      "source": [
        "<a href=\"https://colab.research.google.com/github/aswinkannanctr/landslide_Guardian/blob/main/Prediction_model.ipynb\" target=\"_parent\"><img src=\"https://colab.research.google.com/assets/colab-badge.svg\" alt=\"Open In Colab\"/></a>"
      ]
    },
    {
      "cell_type": "markdown",
      "source": [
        "Real time moisture reading fetching"
      ],
      "metadata": {
        "id": "QAapmKQd95xU"
      }
    },
    {
      "cell_type": "code",
      "source": [
        "!pip install requests numpy scikit-learn\n"
      ],
      "metadata": {
        "colab": {
          "base_uri": "https://localhost:8080/"
        },
        "collapsed": true,
        "id": "dzZkTw5Y98D6",
        "outputId": "3f958a60-c7d0-4172-fb18-5fe891308d13"
      },
      "execution_count": null,
      "outputs": [
        {
          "output_type": "stream",
          "name": "stdout",
          "text": [
            "Requirement already satisfied: requests in /usr/local/lib/python3.10/dist-packages (2.31.0)\n",
            "Requirement already satisfied: numpy in /usr/local/lib/python3.10/dist-packages (1.25.2)\n",
            "Requirement already satisfied: scikit-learn in /usr/local/lib/python3.10/dist-packages (1.2.2)\n",
            "Requirement already satisfied: charset-normalizer<4,>=2 in /usr/local/lib/python3.10/dist-packages (from requests) (3.3.2)\n",
            "Requirement already satisfied: idna<4,>=2.5 in /usr/local/lib/python3.10/dist-packages (from requests) (3.7)\n",
            "Requirement already satisfied: urllib3<3,>=1.21.1 in /usr/local/lib/python3.10/dist-packages (from requests) (2.0.7)\n",
            "Requirement already satisfied: certifi>=2017.4.17 in /usr/local/lib/python3.10/dist-packages (from requests) (2024.6.2)\n",
            "Requirement already satisfied: scipy>=1.3.2 in /usr/local/lib/python3.10/dist-packages (from scikit-learn) (1.11.4)\n",
            "Requirement already satisfied: joblib>=1.1.1 in /usr/local/lib/python3.10/dist-packages (from scikit-learn) (1.4.2)\n",
            "Requirement already satisfied: threadpoolctl>=2.0.0 in /usr/local/lib/python3.10/dist-packages (from scikit-learn) (3.5.0)\n"
          ]
        }
      ]
    },
    {
      "cell_type": "markdown",
      "source": [
        "Fetching Iot Reading(Real Time Moisture Reading)"
      ],
      "metadata": {
        "id": "8_lF2dB8QBfM"
      }
    },
    {
      "cell_type": "code",
      "source": [
        "import requests\n",
        "import numpy as np\n",
        "\n",
        "def get_soil_moiture():\n",
        "    # Function to fetch data from ThingSpeak\n",
        "    def fetch_thingspeak_data(channel_id, read_key, results=1):\n",
        "        url = f'https://api.thingspeak.com/channels/{channel_id}/feeds.json?api_key={read_key}&results={results}'\n",
        "        response = requests.get(url)\n",
        "        data = response.json()\n",
        "        return data['feeds']\n",
        "\n",
        "    # Preprocess data\n",
        "    def preprocess_data(feeds, field):\n",
        "        try:\n",
        "            soil_moisture = float(feeds[0][f'field{field}'])\n",
        "        except (KeyError, IndexError):\n",
        "            print(f\"Warning: 'field{field}' is missing in feed: {feeds}\")\n",
        "            soil_moisture = None\n",
        "        return soil_moisture\n",
        "    channel_id = \"2509827\"\n",
        "    read_key = \"ESOQ662OYSDMM2L3\"\n",
        "    field = 1\n",
        "\n",
        "    # Fetch new real-time data for prediction\n",
        "    new_feeds = fetch_thingspeak_data(channel_id, read_key)\n",
        "    new_soil_moisture = preprocess_data(new_feeds, field)\n",
        "\n",
        "    # Check if new data was correctly fetched and preprocessed\n",
        "    if new_soil_moisture is None:\n",
        "        raise ValueError(\"No valid new data fetched or all new data entries are missing required fields.\")\n",
        "\n",
        "    return new_soil_moisture\n",
        "\n",
        "# Example usage:\n",
        "soil_moisture_value = get_soil_moiture()\n",
        "print(\"Soil Moisture Value:\", soil_moisture_value)\n"
      ],
      "metadata": {
        "colab": {
          "base_uri": "https://localhost:8080/"
        },
        "id": "Et87VkiSAFp6",
        "outputId": "40ab0cf4-7c89-42db-bc32-7febfd3f6857"
      },
      "execution_count": null,
      "outputs": [
        {
          "output_type": "stream",
          "name": "stdout",
          "text": [
            "Soil Moisture Value: 660.0\n"
          ]
        }
      ]
    },
    {
      "cell_type": "markdown",
      "source": [
        "Real Time River Distance"
      ],
      "metadata": {
        "id": "Mc8hEOdkJNpe"
      }
    },
    {
      "cell_type": "code",
      "source": [
        "!pip install geopy\n",
        "from geopy.distance import geodesic\n",
        "\n",
        "# Coordinates of the location (Palakkad)\n",
        "location_coords = (10.7734, 76.6548)  # Latitude, Longitude\n",
        "\n",
        "# Coordinates of the river (example coordinates, replace with actual river coordinates)\n",
        "river_coords = (10.8505, 76.2711)  # Latitude, Longitude\n",
        "\n",
        "# Calculate the distance\n",
        "distance = geodesic(location_coords, river_coords).kilometers\n",
        "print(f\"Distance to the river: {distance:.2f} km\")\n"
      ],
      "metadata": {
        "colab": {
          "base_uri": "https://localhost:8080/"
        },
        "id": "qbG33MtuJNJC",
        "outputId": "7c5e7f0f-ddba-4c62-fccd-9543ed3de28a"
      },
      "execution_count": null,
      "outputs": [
        {
          "output_type": "stream",
          "name": "stdout",
          "text": [
            "Requirement already satisfied: geopy in /usr/local/lib/python3.10/dist-packages (2.3.0)\n",
            "Requirement already satisfied: geographiclib<3,>=1.52 in /usr/local/lib/python3.10/dist-packages (from geopy) (2.0)\n",
            "Distance to the river: 42.82 km\n"
          ]
        }
      ]
    },
    {
      "cell_type": "markdown",
      "source": [
        "Real-time Weather data Fetching"
      ],
      "metadata": {
        "id": "Ky2mKnUwX0PD"
      }
    },
    {
      "cell_type": "code",
      "source": [
        "import requests\n",
        "from datetime import datetime\n",
        "\n",
        "def get_weather_data():\n",
        "    api_key = \"b41ec3be35c7dac8aabbc21ba253137a\"\n",
        "    location = \"Sreekrishnapuram\"\n",
        "    url = f\"https://api.openweathermap.org/data/2.5/weather?q={location}&appid={api_key}&units=metric\"\n",
        "\n",
        "    response = requests.get(url)\n",
        "\n",
        "    if response.status_code == 200:\n",
        "        data = response.json()\n",
        "        try:\n",
        "            # Extracting relevant information from the response\n",
        "            rainfall = data.get('rain', {}).get('1h', 0)  # Rainfall in the last hour (default to 0 if not present)\n",
        "            main = data.get('main', {})\n",
        "            elevation = main.get('sea_level', 'N/A')  # Elevation angle (sea level pressure if available)\n",
        "            date_time = data.get('dt', 'N/A')  # Date and time of the weather data (timestamp)\n",
        "\n",
        "            # Convert timestamp to readable date-time if available\n",
        "            if date_time != 'N/A':\n",
        "                date_time = datetime.utcfromtimestamp(date_time).strftime('%Y-%m-%d %H:%M:%S')\n",
        "            if elevation != 'N/A':\n",
        "                # Calculate altitude in meters based on sea level pressure using ISA model approximation\n",
        "                # Constants for ISA model\n",
        "                T0 = 288.15  # Standard temperature at sea level in Kelvin\n",
        "                L = 0.0065  # Temperature lapse rate in Kelvin per meter\n",
        "                P0 = 1013.25  # Standard atmospheric pressure at sea level in hPa\n",
        "                R = 287.05  # Universal gas constant for dry air in J/(kg·K)\n",
        "                g = 9.80665  # Acceleration due to gravity in m/s^2\n",
        "\n",
        "                altitude = (T0 / L) * (1 - (elevation / P0)**(L * R / g))\n",
        "\n",
        "        except KeyError as e:\n",
        "            print(\"Error extracting data from the response:\", e)\n",
        "            # Assign default values in case of any errors\n",
        "            rainfall = 0\n",
        "            date_time = 'N/A'\n",
        "            altitude = 'N/A'\n",
        "    else:\n",
        "        print(f\"Error: {response.status_code}, {response.text}\")\n",
        "        # Assign default values in case of error\n",
        "        rainfall = 0\n",
        "        date_time = 'N/A'\n",
        "        altitude = 'N/A'\n",
        "\n",
        "    return rainfall, altitude\n",
        "\n",
        "# Retrieve data from the function\n",
        "rainfall, altitude = get_weather_data()\n",
        "\n",
        "# Print the results outside the function scope\n",
        "print(f\"Rainfall: {rainfall} mm\")\n",
        "#print(f\"Date and Time: {date_time}\")\n",
        "print(f\"Elevation (Estimated): {altitude:.2f} m\")\n"
      ],
      "metadata": {
        "colab": {
          "base_uri": "https://localhost:8080/"
        },
        "id": "O5rt-y759977",
        "outputId": "26235535-00e6-469c-ab90-e40eabd87000"
      },
      "execution_count": null,
      "outputs": [
        {
          "output_type": "stream",
          "name": "stdout",
          "text": [
            "Rainfall: 5.33 mm\n",
            "Elevation (Estimated): 27.09 m\n"
          ]
        }
      ]
    },
    {
      "cell_type": "markdown",
      "source": [
        "Linear Regression Model"
      ],
      "metadata": {
        "id": "8-WQFstr-FTX"
      }
    },
    {
      "cell_type": "code",
      "source": [
        "import pandas as pd\n",
        "import numpy as np\n",
        "import sklearn as sk\n",
        "from sklearn.linear_model import LinearRegression\n",
        "from sklearn.model_selection import train_test_split\n",
        "from sklearn.metrics import mean_squared_error, r2_score\n",
        "import matplotlib.pyplot as plt\n",
        "from sklearn import linear_model\n",
        "from sklearn.linear_model import Ridge\n",
        "\n",
        "data = pd.read_csv(\"modified_landslide_data.csv\")\n",
        "\n",
        "# Define your feature matrix (X) and target vector (y)\n",
        "X = data[['Elevation', 'AAP(mm)', 'RiverDIST(m)','Slop(Degrees)','Soil Moisture']]\n",
        "y = data['Landslide Risk']\n",
        "\n",
        "# Split the data into training and testing sets\n",
        "X_train, X_test, Y_train, Y_test = train_test_split(X, y, test_size=0.3, random_state=42)\n",
        "\n",
        "# Initialize and train the linear regression model\n",
        "model = LinearRegression()\n",
        "model.fit(X_train, Y_train)\n",
        "\n",
        "#L2 regularization\n",
        "r_reg=linear_model.Ridge(alpha=20,max_iter=100,tol=0.1)\n",
        "r_reg.fit(X_train, Y_train)\n",
        "i=r_reg.score(X_train, Y_train)\n",
        "j=r_reg.score(X_test, Y_test)\n",
        "print(\"Train accuracy:\",np.round(i*100,decimals=2),\"%\")\n",
        "print(\"Test accuracy:\",np.round(j*100,decimals=2),\"%\")\n",
        "\n",
        "# Make predictions on the testing set\n",
        "y_pred = model.predict(X_test)\n",
        "\n",
        "# Evaluate the model\n",
        "mse = mean_squared_error(Y_test, y_pred)\n",
        "r2 = r2_score(Y_test, y_pred)\n",
        "\n",
        "print(\"Mean Squared Error:\", np.round(mse*100,decimals=2),\"%\")\n",
        "print(\"R-squared Score:\", np.round(r2,decimals=2),\"%\")\n",
        "\n",
        "soilMoisture =get_soil_moiture()\n",
        "rainfall = get_weather_data()[0]\n",
        "elevation = get_weather_data()[1]\n",
        "\n",
        "# Generate a random slope value\n",
        "min_slope = 10\n",
        "max_slope = 40\n",
        "random_slope = np.random.uniform(min_slope + 5, max_slope - 5)\n",
        "#print(\"Random Slope Value:\", random_slope)\n",
        "\n",
        "new_data_point = [[elevation ,rainfall,0,random_slope,soilMoisture]]\n",
        "new_data_point = np.array(new_data_point)\n",
        "\n",
        "# Use the trained model to make predictions\n",
        "predicted_severity = model.predict(new_data_point)\n",
        "\n",
        "print(\"Predicted Landslide Severity:\", np.round(predicted_severity,decimals=2))\n",
        "\n",
        "# Plotting the true values against the predicted values\n",
        "plt.scatter(Y_test, y_pred, alpha=0.5)\n",
        "plt.xlabel('True Values')\n",
        "plt.ylabel('Predicted Values')\n",
        "plt.title('True vs Predicted Values for Linear Regression Model')\n",
        "plt.show()\n"
      ],
      "metadata": {
        "colab": {
          "base_uri": "https://localhost:8080/",
          "height": 614
        },
        "id": "peUmPC52m0YP",
        "outputId": "ff1fdbdf-2f1f-4acb-9d12-d9ce2aef6e2a"
      },
      "execution_count": null,
      "outputs": [
        {
          "output_type": "stream",
          "name": "stdout",
          "text": [
            "Train accuracy: 64.94 %\n",
            "Test accuracy: 66.53 %\n",
            "Mean Squared Error: 0.69 %\n",
            "R-squared Score: 0.67 %\n"
          ]
        },
        {
          "output_type": "stream",
          "name": "stderr",
          "text": [
            "/usr/local/lib/python3.10/dist-packages/sklearn/base.py:439: UserWarning: X does not have valid feature names, but LinearRegression was fitted with feature names\n",
            "  warnings.warn(\n"
          ]
        },
        {
          "output_type": "stream",
          "name": "stdout",
          "text": [
            "Predicted Landslide Severity: [2.14]\n"
          ]
        },
        {
          "output_type": "display_data",
          "data": {
            "text/plain": [
              "<Figure size 640x480 with 1 Axes>"
            ],
            "image/png": "[encoded data removed]"
          },
          "metadata": {}
        }
      ]
    },
    {
      "cell_type": "code",
      "source": [
        "import pandas as pd\n",
        "# Check the maximum value of a column\n",
        "df = pd.read_csv(\"modified_landslide_data.csv\")\n",
        "max_value = df['Slop(Degrees)'].max()\n",
        "\n",
        "# Check the minimum value of a column\n",
        "min_value = df['Slop(Degrees)'].min()\n",
        "\n",
        "print(f\"Maximum value of 'LR': {max_value}\")\n",
        "print(f\"Minimum value of 'LR': {min_value}\")\n",
        "# Calculate the mean of the specified column\n",
        "mean_value = df['RiverDIST(m)'].mean()\n",
        "mean_value1 = df['Slop(Degrees)'].mean()\n",
        "\n",
        "# Print the mean value\n",
        "print(f\"The mean of the column 'column_name' is: {mean_value,mean_value1}\")\n"
      ],
      "metadata": {
        "id": "1wR5Mzhggzme"
      },
      "execution_count": null,
      "outputs": []
    },
    {
      "cell_type": "markdown",
      "source": [
        "Warning System"
      ],
      "metadata": {
        "id": "Wwi1KwKqgVsB"
      }
    },
    {
      "cell_type": "code",
      "source": [
        "risk_value = predicted_severity\n",
        "def get_warning_level(risk_value):\n",
        "    if risk_value < 0.25:\n",
        "        return \"Low Risk\"\n",
        "    elif risk_value < 0.5:\n",
        "        return \"Moderate Risk\"\n",
        "    elif risk_value < 0.75:\n",
        "        return \"High Risk\"\n",
        "    else:\n",
        "        return \"Very High Risk\"\n",
        "\n",
        "warning_level = get_warning_level(risk_value)\n",
        "print(\"Warning Level:\", warning_level)\n",
        "\n",
        "#Implementing Monitoring System\n",
        "def check_risk_and_warning(model, new_data_point):\n",
        "    predictions = model.predict(new_data_point)\n",
        "    warnings = []\n",
        "    for prediction in predictions:\n",
        "        warning_level = get_warning_level(prediction)\n",
        "        warnings.append(warning_level)\n",
        "    return warnings\n",
        "print(check_risk_and_warning(model,new_data_point))"
      ],
      "metadata": {
        "id": "K3IG_oligWPm",
        "colab": {
          "base_uri": "https://localhost:8080/"
        },
        "outputId": "1eec399f-8bfa-43b9-88e9-59cc1776ebc4"
      },
      "execution_count": null,
      "outputs": [
        {
          "output_type": "stream",
          "name": "stdout",
          "text": [
            "Warning Level: Moderate Risk\n",
            "['Moderate Risk']\n"
          ]
        },
        {
          "output_type": "stream",
          "name": "stderr",
          "text": [
            "/usr/local/lib/python3.10/dist-packages/sklearn/base.py:439: UserWarning: X does not have valid feature names, but LinearRegression was fitted with feature names\n",
            "  warnings.warn(\n"
          ]
        }
      ]
    },
    {
      "cell_type": "markdown",
      "source": [
        "Ddeployment of ML model into Webserver"
      ],
      "metadata": {
        "id": "JPTPAzWGZiau"
      }
    },
    {
      "cell_type": "code",
      "source": [
        "!pip install flask -ngrok"
      ],
      "metadata": {
        "colab": {
          "base_uri": "https://localhost:8080/"
        },
        "id": "lndGxItwrZ4z",
        "outputId": "f8d505ee-2349-476a-f183-e9021f4325bb"
      },
      "execution_count": null,
      "outputs": [
        {
          "output_type": "stream",
          "name": "stdout",
          "text": [
            "\n",
            "Usage:   \n",
            "  pip3 install [options] <requirement specifier> [package-index-options] ...\n",
            "  pip3 install [options] -r <requirements file> [package-index-options] ...\n",
            "  pip3 install [options] [-e] <vcs project url> ...\n",
            "  pip3 install [options] [-e] <local project path> ...\n",
            "  pip3 install [options] <archive url/path> ...\n",
            "\n",
            "no such option: -n\n"
          ]
        }
      ]
    },
    {
      "cell_type": "code",
      "execution_count": null,
      "metadata": {
        "id": "k8SwxrrpQU1b",
        "colab": {
          "base_uri": "https://localhost:8080/"
        },
        "collapsed": true,
        "outputId": "81c07af2-088a-49a8-ce5b-b49ca4dc3fc9"
      },
      "outputs": [
        {
          "output_type": "execute_result",
          "data": {
            "text/plain": [
              "['linear_regression_model.pkl']"
            ]
          },
          "metadata": {},
          "execution_count": 19
        }
      ],
      "source": [
        "import joblib\n",
        "\n",
        "# `model` is the trained linear regression model\n",
        "joblib.dump(model, 'linear_regression_model.pkl')"
      ]
    },
    {
      "cell_type": "code",
      "source": [
        "from google.colab import files\n",
        "files.download('linear_regression_model.pkl')\n"
      ],
      "metadata": {
        "colab": {
          "base_uri": "https://localhost:8080/",
          "height": 17
        },
        "collapsed": true,
        "id": "AVOTdcAWcGll",
        "outputId": "74c7599f-e606-4069-9415-c8046499bb9e"
      },
      "execution_count": null,
      "outputs": [
        {
          "output_type": "display_data",
          "data": {
            "text/plain": [
              "<IPython.core.display.Javascript object>"
            ],
            "application/javascript": [
              "\n",
              "    async function download(id, filename, size) {\n",
              "      if (!google.colab.kernel.accessAllowed) {\n",
              "        return;\n",
              "      }\n",
              "      const div = document.createElement('div');\n",
              "      const label = document.createElement('label');\n",
              "      label.textContent = `Downloading \"${filename}\": `;\n",
              "      div.appendChild(label);\n",
              "      const progress = document.createElement('progress');\n",
              "      progress.max = size;\n",
              "      div.appendChild(progress);\n",
              "      document.body.appendChild(div);\n",
              "\n",
              "      const buffers = [];\n",
              "      let downloaded = 0;\n",
              "\n",
              "      const channel = await google.colab.kernel.comms.open(id);\n",
              "      // Send a message to notify the kernel that we're ready.\n",
              "      channel.send({})\n",
              "\n",
              "      for await (const message of channel.messages) {\n",
              "        // Send a message to notify the kernel that we're ready.\n",
              "        channel.send({})\n",
              "        if (message.buffers) {\n",
              "          for (const buffer of message.buffers) {\n",
              "            buffers.push(buffer);\n",
              "            downloaded += buffer.byteLength;\n",
              "            progress.value = downloaded;\n",
              "          }\n",
              "        }\n",
              "      }\n",
              "      const blob = new Blob(buffers, {type: 'application/binary'});\n",
              "      const a = document.createElement('a');\n",
              "      a.href = window.URL.createObjectURL(blob);\n",
              "      a.download = filename;\n",
              "      div.appendChild(a);\n",
              "      a.click();\n",
              "      div.remove();\n",
              "    }\n",
              "  "
            ]
          },
          "metadata": {}
        },
        {
          "output_type": "display_data",
          "data": {
            "text/plain": [
              "<IPython.core.display.Javascript object>"
            ],
            "application/javascript": [
              "download(\"download_20125893-c3ca-4f20-8ead-f916c982d0ff\", \"linear_regression_model.pkl\", 1008)"
            ]
          },
          "metadata": {}
        }
      ]
    },
    {
      "cell_type": "code",
      "source": [],
      "metadata": {
        "id": "IaasHH45KrST"
      },
      "execution_count": null,
      "outputs": []
    },
    {
      "cell_type": "code",
      "source": [
        "import numpy as np\n",
        "from flask import Flask, request, jsonify, send_from_directory\n",
        "import pickle\n",
        "from google.colab import files\n",
        "\n",
        "# Initialize the Flask app\n",
        "app = Flask(__name__, static_folder='static', static_url_path='')\n",
        "\n",
        "# Function to handle model loading\n",
        "def load_model():\n",
        "    # Load the model\n",
        "    uploaded = files.upload()\n",
        "    model_file = next(iter(uploaded))\n",
        "    model = pickle.load(open(model_file, 'rb'))\n",
        "    return model\n",
        "\n",
        "# Load the model\n",
        "model = load_model('linear_regression_model.pkl')\n",
        "\n",
        "@app.route('/')\n",
        "def home():\n",
        "    return send_from_directory(app.static_folder, 'index.html')\n",
        "\n",
        "@app.route('/predict', methods=['POST'])\n",
        "def predict():\n",
        "    # Get the data from the POST request\n",
        "    data = request.get_json(force=True)\n",
        "    # Convert data to numpy array\n",
        "    prediction_data = np.array([data['features']])\n",
        "    # Make prediction using the model\n",
        "    prediction = model.predict(prediction_data)\n",
        "    # Return the prediction as a JSON response\n",
        "    return jsonify({'prediction': prediction[0]})\n",
        "\n",
        "# Run the Flask app\n",
        "if __name__ == '__main__':\n",
        "    app.run(host='0.0.0.0', port=5000, debug=True)\n",
        "\n",
        "\n",
        "\n"
      ],
      "metadata": {
        "id": "eFMWhj_icMno"
      },
      "execution_count": null,
      "outputs": []
    },
    {
      "cell_type": "markdown",
      "source": [
        "Manipulations in dataset"
      ],
      "metadata": {
        "id": "7rwIVF7qPrV7"
      }
    },
    {
      "cell_type": "code",
      "source": [
        "import pandas as pd\n",
        "import numpy as np\n",
        "\n",
        "def calculate_soil_moisture(aap):\n",
        "   # Define soil moisture based on AAP using a piecewise function or a nonlinear relationship\n",
        "    if aap < 200:\n",
        "        soil_moisture = aap * 0.5  # Example: Low AAP results in lower soil moisture\n",
        "    elif aap < 400:\n",
        "        soil_moisture = aap * 0.6  # Example: Moderate AAP results in moderate soil moisture\n",
        "    elif aap < 600:\n",
        "        soil_moisture = aap * 0.7  # Example: Higher AAP results in higher soil moisture\n",
        "    elif aap < 900:\n",
        "        soil_moisture = aap * 0.8  # Example: Higher AAP results in higher soil moisture\n",
        "    else:\n",
        "        soil_moisture = aap * 0.9  # Example: Very high AAP results in high soil moisture\n",
        "\n",
        "    # Ensure soil moisture is within 0 to 100\n",
        "    soil_moisture = np.clip(soil_moisture, 0, 100)\n",
        "    return soil_moisture\n",
        "\n",
        "def calculate_landslide_risk(row):\n",
        "    weight_elevation = 0.25  # Adjust weight based on relative importance\n",
        "    weight_slope = 0.2\n",
        "    weight_river_distance = 0.15\n",
        "    weight_fault_distance = 0.15\n",
        "    weight_aap = 0.15  # Weight for AAP(mm)\n",
        "    weight_soil_moisture = 0.1  # Weight for Soil Moisture\n",
        "\n",
        "    elevation = row['Elevation']\n",
        "    slope_degrees = row['Slop(Degrees)']\n",
        "    river_distance = row['RiverDIST(m)']\n",
        "    fault_distance = row['FaultDIST(m)']\n",
        "    aap = row['AAP(mm)']\n",
        "    soil_moisture = row['Soil Moisture']\n",
        "\n",
        "    risk_score = 0\n",
        "\n",
        "    # Risk factors based on feature values (adjust thresholds and weights as needed)\n",
        "    if elevation > 1500:\n",
        "        risk_score += weight_elevation * 0.8  # Higher weight for high elevation\n",
        "    elif elevation > 1000:\n",
        "        risk_score += weight_elevation * 0.5\n",
        "\n",
        "    if slope_degrees > 25:\n",
        "        risk_score += weight_slope * 1  # Maximum weight for steep slopes\n",
        "    elif slope_degrees > 20:\n",
        "        risk_score += weight_slope * 0.7\n",
        "\n",
        "    if river_distance < 1000:\n",
        "        risk_score += weight_river_distance * 0.8  # Higher weight for closer rivers\n",
        "    elif river_distance < 500:\n",
        "        risk_score += weight_river_distance * 1\n",
        "\n",
        "    if fault_distance < 2000:\n",
        "        risk_score += weight_fault_distance * (1 - fault_distance / 2000)  # Higher risk closer to faults\n",
        "\n",
        "    if aap > 250:\n",
        "        risk_score += weight_aap * 0.8  # Higher weight for higher AAP(mm)\n",
        "    elif aap > 200:\n",
        "        risk_score += weight_aap * 0.5\n",
        "\n",
        "    if soil_moisture > 70:  # Example threshold for soil moisture in percentage\n",
        "        risk_score += weight_soil_moisture * 1  # Higher risk for very wet soil\n",
        "    elif soil_moisture > 50:\n",
        "        risk_score += weight_soil_moisture * 0.7\n",
        "\n",
        "    # Normalize risk score to 0-1 range\n",
        "    risk_score = min(risk_score, 1)  # Ensure score doesn't exceed 1\n",
        "\n",
        "    return risk_score\n",
        "\n",
        "def add_soil_moisture_and_landslide_risk_column(new_dataset_final):\n",
        "    # Read the CSV data\n",
        "    data = pd.read_csv('new_dataset_final.csv')\n",
        "\n",
        "    # Calculate soil moisture based on AAP\n",
        "    data['Soil Moisture'] = data['AAP(mm)'].apply(calculate_soil_moisture)\n",
        "\n",
        "    # Add a new column for landslide risk\n",
        "    data['Landslide Risk'] = data.apply(calculate_landslide_risk, axis=1)\n",
        "\n",
        "    return data\n",
        "\n",
        "# Example usage\n",
        "data_with_risk = add_soil_moisture_and_landslide_risk_column(\"new_dataset_final.csv\")\n",
        "\n",
        "# Save the DataFrame with landslide risk to a new CSV file\n",
        "data_with_risk.to_csv('modified_landslide_data.csv', index=False)\n",
        "\n",
        "print(\"Soil Moisture and Landslide Risk columns added successfully. The modified dataset is saved as 'modified_landslide_data.csv'.\")\n"
      ],
      "metadata": {
        "colab": {
          "base_uri": "https://localhost:8080/"
        },
        "id": "WJwSuvSNKmcl",
        "outputId": "791ea09a-8a79-4ede-b61a-ccbf41ad03fd"
      },
      "execution_count": null,
      "outputs": [
        {
          "output_type": "stream",
          "name": "stdout",
          "text": [
            "Soil Moisture and Landslide Risk columns added successfully. The modified dataset is saved as 'modified_landslide_data.csv'.\n"
          ]
        }
      ]
    }
  ]
}